{
 "cells": [
  {
   "cell_type": "markdown",
   "id": "f26f9bc4",
   "metadata": {},
   "source": [
    "# How to install any library in python?"
   ]
  },
  {
   "cell_type": "code",
   "execution_count": 2,
   "id": "4a44036d",
   "metadata": {},
   "outputs": [
    {
     "name": "stdout",
     "output_type": "stream",
     "text": [
      "Requirement already satisfied: numpy in c:\\users\\dell\\anaconda3\\lib\\site-packages (1.20.1)\n"
     ]
    }
   ],
   "source": [
    "!pip install numpy"
   ]
  },
  {
   "cell_type": "markdown",
   "id": "6e254352",
   "metadata": {},
   "source": [
    "# How to import any library in python"
   ]
  },
  {
   "cell_type": "code",
   "execution_count": 4,
   "id": "6705adff",
   "metadata": {},
   "outputs": [],
   "source": [
    "import numpy as np"
   ]
  },
  {
   "cell_type": "markdown",
   "id": "7dbf72b1",
   "metadata": {},
   "source": [
    "# How to create numpy array"
   ]
  },
  {
   "cell_type": "code",
   "execution_count": 5,
   "id": "a972d524",
   "metadata": {},
   "outputs": [
    {
     "data": {
      "text/plain": [
       "array([1, 2, 3])"
      ]
     },
     "execution_count": 5,
     "metadata": {},
     "output_type": "execute_result"
    }
   ],
   "source": [
    "a = np.array([1,2,3])\n",
    "a"
   ]
  },
  {
   "cell_type": "code",
   "execution_count": 6,
   "id": "379c43d1",
   "metadata": {},
   "outputs": [
    {
     "name": "stdout",
     "output_type": "stream",
     "text": [
      "[1 2 3]\n"
     ]
    }
   ],
   "source": [
    "a = np.array([1,2,3])\n",
    "print(a)"
   ]
  },
  {
   "cell_type": "code",
   "execution_count": 7,
   "id": "34605f79",
   "metadata": {},
   "outputs": [
    {
     "data": {
      "text/plain": [
       "1"
      ]
     },
     "execution_count": 7,
     "metadata": {},
     "output_type": "execute_result"
    }
   ],
   "source": [
    "a[0]"
   ]
  },
  {
   "cell_type": "code",
   "execution_count": 9,
   "id": "cc8d4ead",
   "metadata": {},
   "outputs": [
    {
     "data": {
      "text/plain": [
       "3"
      ]
     },
     "execution_count": 9,
     "metadata": {},
     "output_type": "execute_result"
    }
   ],
   "source": [
    "a[2]"
   ]
  },
  {
   "cell_type": "code",
   "execution_count": 11,
   "id": "c3fa2211",
   "metadata": {},
   "outputs": [
    {
     "name": "stdout",
     "output_type": "stream",
     "text": [
      "2\n"
     ]
    }
   ],
   "source": [
    "print(a[1])"
   ]
  },
  {
   "cell_type": "markdown",
   "id": "c0e21665",
   "metadata": {},
   "source": [
    "# How to create one dimensional array using numpy"
   ]
  },
  {
   "cell_type": "markdown",
   "id": "efa57d94",
   "metadata": {},
   "source": [
    "# VECTOR:-"
   ]
  },
  {
   "cell_type": "code",
   "execution_count": 12,
   "id": "02cc6596",
   "metadata": {},
   "outputs": [
    {
     "data": {
      "text/plain": [
       "array([1, 2, 3, 4, 5])"
      ]
     },
     "execution_count": 12,
     "metadata": {},
     "output_type": "execute_result"
    }
   ],
   "source": [
    "a=[1,2,3,4,5]\n",
    "myarr = np.array(a)\n",
    "myarr"
   ]
  },
  {
   "cell_type": "code",
   "execution_count": 13,
   "id": "5351c9fe",
   "metadata": {},
   "outputs": [
    {
     "data": {
      "text/plain": [
       "array([1, 3, 4, 5, 5])"
      ]
     },
     "execution_count": 13,
     "metadata": {},
     "output_type": "execute_result"
    }
   ],
   "source": [
    "myarr = np.array([1,3,4,5,5])\n",
    "myarr"
   ]
  },
  {
   "cell_type": "markdown",
   "id": "93a16ee5",
   "metadata": {},
   "source": [
    "# make user input to create a vector"
   ]
  },
  {
   "cell_type": "code",
   "execution_count": 19,
   "id": "0a52239f",
   "metadata": {},
   "outputs": [
    {
     "name": "stdout",
     "output_type": "stream",
     "text": [
      "Enter size of the array = 5\n",
      "Enter value22\n",
      "Enter value11\n",
      "Enter value333\n",
      "Enter value33333\n",
      "Enter value33333333\n"
     ]
    },
    {
     "data": {
      "text/plain": [
       "array([      22,       11,      333,    33333, 33333333])"
      ]
     },
     "execution_count": 19,
     "metadata": {},
     "output_type": "execute_result"
    }
   ],
   "source": [
    "a=[]\n",
    "n=int(input(\"Enter size of the array = \"))\n",
    "for i in range(n):\n",
    "    val=int(input(\"Enter value\"))\n",
    "    a.append(val)\n",
    "myarr=np.array(a)\n",
    "myarr"
   ]
  },
  {
   "cell_type": "markdown",
   "id": "134fdade",
   "metadata": {},
   "source": [
    "# How to create two dimensional array using Numpy"
   ]
  },
  {
   "cell_type": "markdown",
   "id": "6c15f469",
   "metadata": {},
   "source": [
    "# MATRIX:-"
   ]
  },
  {
   "cell_type": "code",
   "execution_count": 34,
   "id": "42b9830d",
   "metadata": {},
   "outputs": [
    {
     "data": {
      "text/plain": [
       "array([[1, 2, 3],\n",
       "       [4, 5, 6],\n",
       "       [7, 8, 9]])"
      ]
     },
     "execution_count": 34,
     "metadata": {},
     "output_type": "execute_result"
    }
   ],
   "source": [
    "a =[[1,2,3],[4,5,6],[7,8,9]]\n",
    "arr= np.array(a)\n",
    "arr"
   ]
  },
  {
   "cell_type": "markdown",
   "id": "edd97446",
   "metadata": {},
   "source": [
    "# Dimension of the array"
   ]
  },
  {
   "cell_type": "code",
   "execution_count": 25,
   "id": "117f803c",
   "metadata": {},
   "outputs": [
    {
     "name": "stdout",
     "output_type": "stream",
     "text": [
      "Dimension of array:  2\n"
     ]
    }
   ],
   "source": [
    "print(\"Dimension of array: \",arr.ndim)"
   ]
  },
  {
   "cell_type": "markdown",
   "id": "4428a0f5",
   "metadata": {},
   "source": [
    "# Shape of the array"
   ]
  },
  {
   "cell_type": "code",
   "execution_count": 26,
   "id": "66c15660",
   "metadata": {},
   "outputs": [
    {
     "name": "stdout",
     "output_type": "stream",
     "text": [
      "shape of the array:  (3, 3)\n"
     ]
    }
   ],
   "source": [
    "print(\"shape of the array: \",arr.shape)"
   ]
  },
  {
   "cell_type": "markdown",
   "id": "82ce249c",
   "metadata": {},
   "source": [
    "# NUMPY FUNCTION"
   ]
  },
  {
   "cell_type": "markdown",
   "id": "a99727ef",
   "metadata": {},
   "source": [
    "zeros:-\n",
    "\n",
    "This function create an array (either one dimension or multi dimension) and fill all the values with zeros(0)."
   ]
  },
  {
   "cell_type": "code",
   "execution_count": 5,
   "id": "a679c7d7",
   "metadata": {},
   "outputs": [
    {
     "data": {
      "text/plain": [
       "array([0., 0., 0., 0., 0.])"
      ]
     },
     "execution_count": 5,
     "metadata": {},
     "output_type": "execute_result"
    }
   ],
   "source": [
    "import numpy as np\n",
    "arr=np.zeros(5)\n",
    "arr"
   ]
  },
  {
   "cell_type": "code",
   "execution_count": 7,
   "id": "371ae634",
   "metadata": {},
   "outputs": [
    {
     "data": {
      "text/plain": [
       "array([[0., 0., 0., 0., 0.],\n",
       "       [0., 0., 0., 0., 0.],\n",
       "       [0., 0., 0., 0., 0.],\n",
       "       [0., 0., 0., 0., 0.],\n",
       "       [0., 0., 0., 0., 0.]])"
      ]
     },
     "execution_count": 7,
     "metadata": {},
     "output_type": "execute_result"
    }
   ],
   "source": [
    "arr1 = np.zeros((5,5))\n",
    "arr1"
   ]
  },
  {
   "cell_type": "markdown",
   "id": "deed71f4",
   "metadata": {},
   "source": [
    "ones:-\n",
    "\n",
    "This function create an array (either one dimension or multi dimension) and fill all the values with ones (1)."
   ]
  },
  {
   "cell_type": "code",
   "execution_count": 10,
   "id": "c52057d7",
   "metadata": {},
   "outputs": [
    {
     "data": {
      "text/plain": [
       "array([1., 1., 1., 1.])"
      ]
     },
     "execution_count": 10,
     "metadata": {},
     "output_type": "execute_result"
    }
   ],
   "source": [
    "arr=np.ones(4)\n",
    "arr"
   ]
  },
  {
   "cell_type": "code",
   "execution_count": 12,
   "id": "6c1a14c3",
   "metadata": {},
   "outputs": [
    {
     "data": {
      "text/plain": [
       "array([[1., 1., 1., 1., 1., 1.],\n",
       "       [1., 1., 1., 1., 1., 1.]])"
      ]
     },
     "execution_count": 12,
     "metadata": {},
     "output_type": "execute_result"
    }
   ],
   "source": [
    "arr1 = np.ones((2,6))\n",
    "arr1"
   ]
  },
  {
   "cell_type": "markdown",
   "id": "293d4337",
   "metadata": {},
   "source": [
    "eye:-\n",
    "\n",
    "This function create an array with all the diagonal elements as 1 and rest as 0 (in a square matrix). In case of a non-square matrix the values are still 1 for diagonal (upto which it can draw diagonal) and rest are zeros."
   ]
  },
  {
   "cell_type": "code",
   "execution_count": 13,
   "id": "9d3a703b",
   "metadata": {},
   "outputs": [
    {
     "data": {
      "text/plain": [
       "array([[1., 0., 0.],\n",
       "       [0., 1., 0.],\n",
       "       [0., 0., 1.]])"
      ]
     },
     "execution_count": 13,
     "metadata": {},
     "output_type": "execute_result"
    }
   ],
   "source": [
    "arr=np.eye(3)\n",
    "arr"
   ]
  },
  {
   "cell_type": "code",
   "execution_count": 14,
   "id": "e41d6a38",
   "metadata": {},
   "outputs": [
    {
     "data": {
      "text/plain": [
       "array([[1., 0., 0., 0., 0., 0., 0.],\n",
       "       [0., 1., 0., 0., 0., 0., 0.]])"
      ]
     },
     "execution_count": 14,
     "metadata": {},
     "output_type": "execute_result"
    }
   ],
   "source": [
    "arr= np.eye(2,7)\n",
    "arr"
   ]
  },
  {
   "cell_type": "code",
   "execution_count": 16,
   "id": "e9b3b123",
   "metadata": {},
   "outputs": [
    {
     "data": {
      "text/plain": [
       "array([[1., 0., 0., 0.],\n",
       "       [0., 1., 0., 0.],\n",
       "       [0., 0., 1., 0.],\n",
       "       [0., 0., 0., 1.]])"
      ]
     },
     "execution_count": 16,
     "metadata": {},
     "output_type": "execute_result"
    }
   ],
   "source": [
    "arr=np.eye(4,4)\n",
    "arr"
   ]
  },
  {
   "cell_type": "markdown",
   "id": "f08d2b44",
   "metadata": {},
   "source": [
    "diag:-\n",
    "\n",
    "This function create two dimension array with all the diagonal element as the given value and rest as 0 (in a square matrix)."
   ]
  },
  {
   "cell_type": "code",
   "execution_count": 18,
   "id": "e868a356",
   "metadata": {},
   "outputs": [
    {
     "data": {
      "text/plain": [
       "array([[1, 0, 0, 0, 0, 0],\n",
       "       [0, 4, 0, 0, 0, 0],\n",
       "       [0, 0, 6, 0, 0, 0],\n",
       "       [0, 0, 0, 4, 0, 0],\n",
       "       [0, 0, 0, 0, 6, 0],\n",
       "       [0, 0, 0, 0, 0, 7]])"
      ]
     },
     "execution_count": 18,
     "metadata": {},
     "output_type": "execute_result"
    }
   ],
   "source": [
    "arr=np.diag([1,4,6,4,6,7])\n",
    "arr"
   ]
  },
  {
   "cell_type": "markdown",
   "id": "b8e911e7",
   "metadata": {},
   "source": [
    "randint:-\n",
    "\n",
    "this function is used to generate a random number between a given range."
   ]
  },
  {
   "cell_type": "markdown",
   "id": "44854482",
   "metadata": {},
   "source": [
    "syntax:-\n",
    "    \n",
    "    rand(min,max,total_values)"
   ]
  },
  {
   "cell_type": "code",
   "execution_count": 27,
   "id": "aa8f25f2",
   "metadata": {},
   "outputs": [
    {
     "data": {
      "text/plain": [
       "array([7, 3, 5, 3, 7])"
      ]
     },
     "execution_count": 27,
     "metadata": {},
     "output_type": "execute_result"
    }
   ],
   "source": [
    "arr=np.random.randint(0,10,5)\n",
    "arr"
   ]
  },
  {
   "cell_type": "markdown",
   "id": "2edabfa2",
   "metadata": {},
   "source": [
    "rand:-"
   ]
  },
  {
   "cell_type": "markdown",
   "id": "541a4fd2",
   "metadata": {},
   "source": [
    "This function is used to generate a random values between 0 to 1.\n",
    "\n",
    "syntan:-\n",
    "    \n",
    "    rand(number_of_values)"
   ]
  },
  {
   "cell_type": "code",
   "execution_count": 29,
   "id": "e62fdec3",
   "metadata": {},
   "outputs": [
    {
     "data": {
      "text/plain": [
       "array([0.56157109, 0.27271618, 0.33950378, 0.3468963 ])"
      ]
     },
     "execution_count": 29,
     "metadata": {},
     "output_type": "execute_result"
    }
   ],
   "source": [
    "arr=np.random.rand(4)\n",
    "arr"
   ]
  },
  {
   "cell_type": "code",
   "execution_count": 30,
   "id": "951600dc",
   "metadata": {},
   "outputs": [
    {
     "data": {
      "text/plain": [
       "array([[0.04123996, 0.61015387, 0.99906165],\n",
       "       [0.28442592, 0.94807953, 0.35607113],\n",
       "       [0.113531  , 0.34332108, 0.02004765],\n",
       "       [0.1509655 , 0.84542793, 0.16430778]])"
      ]
     },
     "execution_count": 30,
     "metadata": {},
     "output_type": "execute_result"
    }
   ],
   "source": [
    "arr=np.random.rand(4,3)\n",
    "arr"
   ]
  },
  {
   "cell_type": "markdown",
   "id": "26a952d4",
   "metadata": {},
   "source": [
    "randn:-"
   ]
  },
  {
   "cell_type": "markdown",
   "id": "88646fcc",
   "metadata": {},
   "source": [
    "This function is used to generate a random values closed to 0 (zero). This may return may positive and negative as well.\n",
    "\n",
    "syntax:-\n",
    "    \n",
    "    randn(numbers of values)"
   ]
  },
  {
   "cell_type": "code",
   "execution_count": 32,
   "id": "3ae9bad3",
   "metadata": {},
   "outputs": [
    {
     "data": {
      "text/plain": [
       "array([ 1.14412259, -0.4396674 , -0.56177589])"
      ]
     },
     "execution_count": 32,
     "metadata": {},
     "output_type": "execute_result"
    }
   ],
   "source": [
    "arr = np.random.randn(3)\n",
    "arr"
   ]
  },
  {
   "cell_type": "markdown",
   "id": "f6de2154",
   "metadata": {},
   "source": [
    "# INDEXING IN 1 DIMENSIONAL ARRAY:-"
   ]
  },
  {
   "cell_type": "code",
   "execution_count": 38,
   "id": "6dc96aca",
   "metadata": {},
   "outputs": [
    {
     "name": "stdout",
     "output_type": "stream",
     "text": [
      "How many number?5\n",
      "enter number32\n",
      "enter number432\n",
      "enter number433\n",
      "enter number234\n",
      "enter number23\n",
      "[ 32 432 433 234  23]\n",
      "32\n",
      "432\n",
      "433\n",
      "234\n",
      "23\n",
      "Sum of the array element =  1154\n"
     ]
    }
   ],
   "source": [
    "import numpy as np\n",
    "a=[]\n",
    "arr = int(input(\"How many number?\"))\n",
    "for i in range(arr):\n",
    "    val = int(input(\"enter number\"))\n",
    "    a.append(val)\n",
    "    \n",
    "arr1 = np.array(a)\n",
    "print(arr1)\n",
    "for i in range(arr1.size):\n",
    "    print(arr1[i])\n",
    "    \n",
    "sum=0\n",
    "for i in range (arr1.size):\n",
    "    sum = sum + arr1[i]\n",
    "\n",
    "print(\"Sum of the array element = \",sum)\n",
    "    \n",
    "    "
   ]
  },
  {
   "cell_type": "markdown",
   "id": "e8907afd",
   "metadata": {},
   "source": [
    "# SLICING IN 1 DIMENSIONAL ARRAY"
   ]
  },
  {
   "cell_type": "markdown",
   "id": "2c4ce87c",
   "metadata": {},
   "source": [
    "Slicing means taking element from one given index to another given index.\n",
    "\n",
    "We pass slice instead of index like this: [start:end].\n",
    "\n",
    "We can also define the step, like this: [start:end:step].\n",
    "\n",
    "If we don't pass start its considered 0\n",
    "\n",
    "If we don't pass end its considered length of array in that dimension\n",
    "\n",
    "If we don't pass step its considered 1"
   ]
  },
  {
   "cell_type": "code",
   "execution_count": 40,
   "id": "6bd72fb3",
   "metadata": {},
   "outputs": [
    {
     "data": {
      "text/plain": [
       "array([423,  54])"
      ]
     },
     "execution_count": 40,
     "metadata": {},
     "output_type": "execute_result"
    }
   ],
   "source": [
    "arr = np.array([1,4,6,423,54,435,32])\n",
    "arr[3:5]"
   ]
  },
  {
   "cell_type": "code",
   "execution_count": 41,
   "id": "fe89fe6c",
   "metadata": {},
   "outputs": [
    {
     "data": {
      "text/plain": [
       "array([423,  54, 435,  32])"
      ]
     },
     "execution_count": 41,
     "metadata": {},
     "output_type": "execute_result"
    }
   ],
   "source": [
    "arr = np.array([1,4,6,423,54,435,32])\n",
    "arr[3:]"
   ]
  },
  {
   "cell_type": "code",
   "execution_count": 42,
   "id": "60574c61",
   "metadata": {},
   "outputs": [
    {
     "data": {
      "text/plain": [
       "array([  1,   4,   6, 423,  54])"
      ]
     },
     "execution_count": 42,
     "metadata": {},
     "output_type": "execute_result"
    }
   ],
   "source": [
    "arr = np.array([1,4,6,423,54,435,32])\n",
    "arr[:5]"
   ]
  },
  {
   "cell_type": "code",
   "execution_count": 43,
   "id": "f7dc976e",
   "metadata": {},
   "outputs": [
    {
     "data": {
      "text/plain": [
       "array([ 54, 435])"
      ]
     },
     "execution_count": 43,
     "metadata": {},
     "output_type": "execute_result"
    }
   ],
   "source": [
    "arr = np.array([1,4,6,423,54,435,32])\n",
    "arr[-3:-1]"
   ]
  },
  {
   "cell_type": "markdown",
   "id": "9c7f615a",
   "metadata": {},
   "source": [
    "Return every other element from index 1 to index 5:\n",
    "\n"
   ]
  },
  {
   "cell_type": "code",
   "execution_count": 44,
   "id": "29a7c8cc",
   "metadata": {},
   "outputs": [
    {
     "name": "stdout",
     "output_type": "stream",
     "text": [
      "[2 4]\n"
     ]
    }
   ],
   "source": [
    "arr = np.array([1, 2, 3, 4, 5, 6, 7])\n",
    "\n",
    "print(arr[1:5:2])"
   ]
  },
  {
   "cell_type": "markdown",
   "id": "9deb7b7b",
   "metadata": {},
   "source": [
    "Return every other element from the entire array:\n",
    "\n"
   ]
  },
  {
   "cell_type": "code",
   "execution_count": 45,
   "id": "a0f3d40c",
   "metadata": {},
   "outputs": [
    {
     "name": "stdout",
     "output_type": "stream",
     "text": [
      "[1 3 5 7]\n"
     ]
    }
   ],
   "source": [
    "arr = np.array([1, 2, 3, 4, 5, 6, 7])\n",
    "\n",
    "print(arr[::2])"
   ]
  },
  {
   "cell_type": "code",
   "execution_count": 4,
   "id": "aa346d23",
   "metadata": {},
   "outputs": [
    {
     "name": "stdout",
     "output_type": "stream",
     "text": [
      "Enter size: 5\n",
      "Enter Number: 463\n",
      "Enter Number: 56\n",
      "Enter Number: 65756\n",
      "Enter Number: 654\n",
      "Enter Number: 09634\n",
      "[  463    56 65756   654  9634]\n",
      "463\n",
      "56\n",
      "65756\n",
      "654\n",
      "9634\n",
      "[65756   654  9634]\n"
     ]
    }
   ],
   "source": [
    "import numpy as np\n",
    "a=[]\n",
    "var=int(input(\"Enter size: \"))\n",
    "for i in range(var):\n",
    "    var1= int(input(\"Enter Number: \"))\n",
    "    a.append(var1)\n",
    "arr=np.array(a)\n",
    "print(arr)\n",
    "for i in range(arr.size):\n",
    "    print(arr[i])\n",
    "arr1=arr[2:5]\n",
    "print(arr1)\n"
   ]
  },
  {
   "cell_type": "markdown",
   "id": "86d39648",
   "metadata": {},
   "source": [
    "# RESHAPING ARRAY:-"
   ]
  },
  {
   "cell_type": "markdown",
   "id": "b96fa4c6",
   "metadata": {},
   "source": [
    "Reshaping means changing the shape of an array.\n",
    "\n",
    "The shape of an array is the number of elements in each dimension.\n",
    "\n",
    "By reshaping we can add or remove dimensions or change number of elements in each dimension.\n",
    "\n"
   ]
  },
  {
   "cell_type": "markdown",
   "id": "5b699e3b",
   "metadata": {},
   "source": [
    "# Reshape from 1 dimension to 2 dimension"
   ]
  },
  {
   "cell_type": "markdown",
   "id": "a1f0c304",
   "metadata": {},
   "source": [
    "syntax:-\n",
    "    \n",
    "    reshape(rows,column)"
   ]
  },
  {
   "cell_type": "code",
   "execution_count": 2,
   "id": "befa4f0b",
   "metadata": {},
   "outputs": [
    {
     "data": {
      "text/plain": [
       "array([[1, 3, 5],\n",
       "       [6, 7, 4],\n",
       "       [6, 7, 5],\n",
       "       [3, 6, 8]])"
      ]
     },
     "execution_count": 2,
     "metadata": {},
     "output_type": "execute_result"
    }
   ],
   "source": [
    "import numpy as np\n",
    "arr = np.array([1,3,5,6,7,4,6,7,5,3,6,8])\n",
    "arr.reshape(4,3)"
   ]
  },
  {
   "cell_type": "code",
   "execution_count": 4,
   "id": "ea204ebb",
   "metadata": {},
   "outputs": [
    {
     "name": "stdout",
     "output_type": "stream",
     "text": [
      "[43  2  3 12  9 41 40 34 19 19 21  1 18 23 22 12]\n"
     ]
    },
    {
     "data": {
      "text/plain": [
       "array([[43,  2,  3, 12],\n",
       "       [ 9, 41, 40, 34],\n",
       "       [19, 19, 21,  1],\n",
       "       [18, 23, 22, 12]])"
      ]
     },
     "execution_count": 4,
     "metadata": {},
     "output_type": "execute_result"
    }
   ],
   "source": [
    "arr = np.random.randint(1,50,16)\n",
    "print(arr)\n",
    "arr.reshape(4,4)"
   ]
  },
  {
   "cell_type": "code",
   "execution_count": 6,
   "id": "c0b0963b",
   "metadata": {},
   "outputs": [
    {
     "data": {
      "text/plain": [
       "array([[43,  2],\n",
       "       [ 3, 12],\n",
       "       [ 9, 41],\n",
       "       [40, 34],\n",
       "       [19, 19],\n",
       "       [21,  1],\n",
       "       [18, 23],\n",
       "       [22, 12]])"
      ]
     },
     "execution_count": 6,
     "metadata": {},
     "output_type": "execute_result"
    }
   ],
   "source": [
    "arr.reshape(8,2)"
   ]
  },
  {
   "cell_type": "code",
   "execution_count": 8,
   "id": "1b7b70cd",
   "metadata": {},
   "outputs": [
    {
     "data": {
      "text/plain": [
       "array([[43,  2,  3, 12,  9, 41, 40, 34],\n",
       "       [19, 19, 21,  1, 18, 23, 22, 12]])"
      ]
     },
     "execution_count": 8,
     "metadata": {},
     "output_type": "execute_result"
    }
   ],
   "source": [
    "arr.reshape(2,8)"
   ]
  },
  {
   "cell_type": "markdown",
   "id": "b41166ec",
   "metadata": {},
   "source": [
    "convert two dimension to one dimension"
   ]
  },
  {
   "cell_type": "code",
   "execution_count": 13,
   "id": "6d7a0ea8",
   "metadata": {},
   "outputs": [
    {
     "name": "stdout",
     "output_type": "stream",
     "text": [
      "[ 5 17 23 15 28 14 13  7]\n"
     ]
    },
    {
     "data": {
      "text/plain": [
       "array([ 5, 17, 23, 15, 28, 14, 13,  7])"
      ]
     },
     "execution_count": 13,
     "metadata": {},
     "output_type": "execute_result"
    }
   ],
   "source": [
    "arr1 = np.random.randint(1,30,8)\n",
    "print(arr1)\n",
    "arr1.reshape(2,4)\n",
    "arr1.reshape(8)"
   ]
  },
  {
   "cell_type": "markdown",
   "id": "2703ff56",
   "metadata": {},
   "source": [
    "Convert 3 dimension to one dimension"
   ]
  },
  {
   "cell_type": "code",
   "execution_count": 15,
   "id": "8e3e8e47",
   "metadata": {},
   "outputs": [
    {
     "data": {
      "text/plain": [
       "array([ 8, 24,  3, 36,  5,  3,  3, 16,  8, 22, 32, 21, 13,  2, 16, 17, 11,\n",
       "       24, 12, 20])"
      ]
     },
     "execution_count": 15,
     "metadata": {},
     "output_type": "execute_result"
    }
   ],
   "source": [
    "arr2 = np.random.randint(1,40,20)\n",
    "arr2.reshape(2,5,2)\n",
    "arr2"
   ]
  },
  {
   "cell_type": "markdown",
   "id": "2d3176e8",
   "metadata": {},
   "source": [
    "# SEED FUNCTION IN NUMPY"
   ]
  },
  {
   "cell_type": "markdown",
   "id": "437802e3",
   "metadata": {},
   "source": [
    "we known that randint() generate randoms numbers. Everytime we run the program new set of random number generate. but what if we want to fix the generation of this random numbers. In this case we use seed function, this generates fix set of random number."
   ]
  },
  {
   "cell_type": "markdown",
   "id": "16d12ec1",
   "metadata": {},
   "source": [
    "syntax:-\n",
    "    \n",
    "    function Name      seed_value the pseduo random number generator\n",
    "    np.random.seed(seed_value)"
   ]
  },
  {
   "cell_type": "code",
   "execution_count": 19,
   "id": "04bb23ce",
   "metadata": {},
   "outputs": [
    {
     "data": {
      "text/plain": [
       "array([41, 16, 73, 23, 44, 83, 76,  8, 35, 50, 96, 76, 86, 48, 64, 32, 91,\n",
       "       21, 38, 40])"
      ]
     },
     "execution_count": 19,
     "metadata": {},
     "output_type": "execute_result"
    }
   ],
   "source": [
    "np.random.seed(2)\n",
    "arr=np.random.randint(1,100,20)\n",
    "arr"
   ]
  },
  {
   "cell_type": "markdown",
   "id": "620e23df",
   "metadata": {},
   "source": [
    "# INDEXING OF 2 DIMENSIONAL ARRAY"
   ]
  },
  {
   "cell_type": "markdown",
   "id": "16c81c54",
   "metadata": {},
   "source": [
    "Indexing/Slicing in 2 dimensional array is using double bracket notation."
   ]
  },
  {
   "cell_type": "code",
   "execution_count": 1,
   "id": "40e79a33",
   "metadata": {},
   "outputs": [
    {
     "name": "stdout",
     "output_type": "stream",
     "text": [
      "Enter number of rows: 2\n",
      "Enter number of colums: 2\n",
      "Enter Numbers: 2\n"
     ]
    },
    {
     "ename": "NameError",
     "evalue": "name 'np' is not defined",
     "output_type": "error",
     "traceback": [
      "\u001b[1;31m---------------------------------------------------------------------------\u001b[0m",
      "\u001b[1;31mNameError\u001b[0m                                 Traceback (most recent call last)",
      "\u001b[1;32m<ipython-input-1-a9e0fe704fc6>\u001b[0m in \u001b[0;36m<module>\u001b[1;34m\u001b[0m\n\u001b[0;32m      9\u001b[0m         \u001b[0ma\u001b[0m\u001b[1;33m.\u001b[0m\u001b[0mappend\u001b[0m\u001b[1;33m(\u001b[0m\u001b[0mval\u001b[0m\u001b[1;33m)\u001b[0m\u001b[1;33m\u001b[0m\u001b[1;33m\u001b[0m\u001b[0m\n\u001b[0;32m     10\u001b[0m         \u001b[0mmatrix\u001b[0m\u001b[1;33m.\u001b[0m\u001b[0mappend\u001b[0m\u001b[1;33m(\u001b[0m\u001b[0ma\u001b[0m\u001b[1;33m)\u001b[0m\u001b[1;33m\u001b[0m\u001b[1;33m\u001b[0m\u001b[0m\n\u001b[1;32m---> 11\u001b[1;33m         \u001b[0marr\u001b[0m \u001b[1;33m=\u001b[0m \u001b[0mnp\u001b[0m\u001b[1;33m.\u001b[0m\u001b[0marray\u001b[0m\u001b[1;33m(\u001b[0m\u001b[0mmatrix\u001b[0m\u001b[1;33m)\u001b[0m\u001b[1;33m\u001b[0m\u001b[1;33m\u001b[0m\u001b[0m\n\u001b[0m\u001b[0;32m     12\u001b[0m         \u001b[1;32mfor\u001b[0m \u001b[0mi\u001b[0m \u001b[1;32min\u001b[0m \u001b[0mrange\u001b[0m\u001b[1;33m(\u001b[0m\u001b[0mrow\u001b[0m\u001b[1;33m)\u001b[0m\u001b[1;33m:\u001b[0m\u001b[1;33m\u001b[0m\u001b[1;33m\u001b[0m\u001b[0m\n\u001b[0;32m     13\u001b[0m             \u001b[1;32mfor\u001b[0m \u001b[0mj\u001b[0m \u001b[1;32min\u001b[0m \u001b[0mrange\u001b[0m\u001b[1;33m(\u001b[0m\u001b[0mcol\u001b[0m\u001b[1;33m)\u001b[0m\u001b[1;33m:\u001b[0m\u001b[1;33m\u001b[0m\u001b[1;33m\u001b[0m\u001b[0m\n",
      "\u001b[1;31mNameError\u001b[0m: name 'np' is not defined"
     ]
    }
   ],
   "source": [
    "matrix=[]\n",
    "row = int(input(\"Enter number of rows: \"))\n",
    "col = int(input(\"Enter number of colums: \"))\n",
    "\n",
    "for i in range(row):\n",
    "    a=[]\n",
    "    for j in range(col):\n",
    "        val=int(input(\"Enter Numbers: \"))\n",
    "        a.append(val)\n",
    "        matrix.append(a)\n",
    "        arr = np.array(matrix)        \n",
    "        for i in range(row):\n",
    "            for j in range(col):\n",
    "                print(arr[i][j],end=\"     \")\n",
    "                print()\n",
    "            print(type(arr))"
   ]
  },
  {
   "cell_type": "markdown",
   "id": "ef709bb7",
   "metadata": {},
   "source": [
    "# VIEW AND COPY"
   ]
  },
  {
   "cell_type": "markdown",
   "id": "29710947",
   "metadata": {},
   "source": [
    "The main difference between a copy and a view of an array is that the copy is a new array, and the view is just a view of the original array.\n",
    "\n",
    "The copy owns the data and any changes made to the copy will not affect original array, and any changes made to the original array will not affect the copy.\n",
    "\n",
    "The view does not own the data and any changes made to the view will affect the original array, and any changes made to the original array will affect the view.\n",
    "\n"
   ]
  },
  {
   "cell_type": "markdown",
   "id": "f478ff27",
   "metadata": {},
   "source": [
    "# View:-"
   ]
  },
  {
   "cell_type": "code",
   "execution_count": 6,
   "id": "26f9bb9d",
   "metadata": {},
   "outputs": [
    {
     "data": {
      "text/plain": [
       "array([10, 20, 43, 12, 12, 12, 12, 54, 76, 44])"
      ]
     },
     "execution_count": 6,
     "metadata": {},
     "output_type": "execute_result"
    }
   ],
   "source": [
    "import numpy as np\n",
    "a = np.array([10,20,43,45,65,76,754,54,76,44])\n",
    "b=a[3:7]\n",
    "b[:]=12\n",
    "a"
   ]
  },
  {
   "cell_type": "markdown",
   "id": "b7a5a41e",
   "metadata": {},
   "source": [
    "# Copy:-"
   ]
  },
  {
   "cell_type": "code",
   "execution_count": 12,
   "id": "df988708",
   "metadata": {},
   "outputs": [
    {
     "name": "stdout",
     "output_type": "stream",
     "text": [
      "[11 11 11 11 11]\n",
      "[32 43 54 54 76 67 87 78 98 89]\n"
     ]
    }
   ],
   "source": [
    "arr=np.array([32,43,54,54,76,67,87,78,98,89])\n",
    "arrb = arr[1:6].copy()\n",
    "arrb[:]=11\n",
    "print(arrb)\n",
    "print(arr)"
   ]
  },
  {
   "cell_type": "markdown",
   "id": "3d36017e",
   "metadata": {},
   "source": [
    "# Condition Selection"
   ]
  },
  {
   "cell_type": "code",
   "execution_count": 16,
   "id": "7402652b",
   "metadata": {},
   "outputs": [
    {
     "name": "stdout",
     "output_type": "stream",
     "text": [
      "[ 1  2  3  4  5  6  7  8  9 10 11 12 13 14 15 16 17 18 19]\n",
      "[False False False False False False False False  True  True  True  True\n",
      "  True  True  True  True  True  True  True]\n"
     ]
    }
   ],
   "source": [
    "a=np.arange(1,20)\n",
    "print(a)\n",
    "b= a>8\n",
    "print(b)\n"
   ]
  },
  {
   "cell_type": "code",
   "execution_count": 21,
   "id": "38f88556",
   "metadata": {},
   "outputs": [
    {
     "name": "stdout",
     "output_type": "stream",
     "text": [
      "[ 1  6  2  7  3  8  4  9  5 10]\n",
      "[array([False,  True, False,  True, False,  True, False,  True, False,\n",
      "        True])]\n"
     ]
    }
   ],
   "source": [
    "a = np.array([1,6,2,7,3,8,4,9,5,10])\n",
    "print(a)\n",
    "b=[a>5]\n",
    "print(b)\n"
   ]
  },
  {
   "cell_type": "code",
   "execution_count": 26,
   "id": "aec67137",
   "metadata": {},
   "outputs": [
    {
     "name": "stdout",
     "output_type": "stream",
     "text": [
      "[array([1, 0, 0, 1, 0, 0, 1, 0, 0, 1], dtype=int32)]\n"
     ]
    }
   ],
   "source": [
    "a=np.array([1,324,534,5,5646,56,97,90,78,87])\n",
    "a\n",
    "b=[a%2]\n",
    "print(b)"
   ]
  },
  {
   "cell_type": "code",
   "execution_count": 35,
   "id": "9c00b7a8",
   "metadata": {},
   "outputs": [
    {
     "data": {
      "text/plain": [
       "array([ 324,  534, 5646])"
      ]
     },
     "execution_count": 35,
     "metadata": {},
     "output_type": "execute_result"
    }
   ],
   "source": [
    "a=np.array([1,324,534,5,5646,56,97,90,78,87])\n",
    "a[a>122]"
   ]
  },
  {
   "cell_type": "markdown",
   "id": "97d28809",
   "metadata": {},
   "source": [
    "# VARIOUS OPERATION ON NUMPY ARRRAY"
   ]
  },
  {
   "cell_type": "markdown",
   "id": "b103e102",
   "metadata": {},
   "source": [
    "Mathematical Operation on Numpy Array:-"
   ]
  },
  {
   "cell_type": "code",
   "execution_count": 6,
   "id": "2739c115",
   "metadata": {},
   "outputs": [
    {
     "name": "stdout",
     "output_type": "stream",
     "text": [
      "[1 2 3 4]\n",
      "[2 4 6 8]\n",
      "[3 4 5 6]\n",
      "[ 1  4  9 16]\n"
     ]
    }
   ],
   "source": [
    "import numpy as np\n",
    "arr = np.arange(1,5)\n",
    "print(arr)\n",
    "print(arr*2)\n",
    "print(arr+2)\n",
    "print(arr**2)"
   ]
  },
  {
   "cell_type": "code",
   "execution_count": 10,
   "id": "15a436e3",
   "metadata": {},
   "outputs": [
    {
     "name": "stdout",
     "output_type": "stream",
     "text": [
      "[ 6  8 10 12]\n"
     ]
    }
   ],
   "source": [
    "arr1 = np.arange(1,5)\n",
    "arr2 = np.arange(5,9)\n",
    "print(arr1+arr2)"
   ]
  },
  {
   "cell_type": "code",
   "execution_count": 12,
   "id": "b9889f12",
   "metadata": {},
   "outputs": [
    {
     "name": "stdout",
     "output_type": "stream",
     "text": [
      "[ 5 12 21 32]\n"
     ]
    }
   ],
   "source": [
    "print(arr1*arr2)"
   ]
  },
  {
   "cell_type": "code",
   "execution_count": 17,
   "id": "1ce6614e",
   "metadata": {},
   "outputs": [
    {
     "data": {
      "text/plain": [
       "array([[ 6,  8],\n",
       "       [10, 12]])"
      ]
     },
     "execution_count": 17,
     "metadata": {},
     "output_type": "execute_result"
    }
   ],
   "source": [
    "a=np.array([1,2,3,4]).reshape(2,2)\n",
    "b=np.array([5,6,7,8]).reshape(2,2)\n",
    "b+a"
   ]
  },
  {
   "cell_type": "code",
   "execution_count": 18,
   "id": "d167aede",
   "metadata": {},
   "outputs": [
    {
     "data": {
      "text/plain": [
       "array([[4, 4],\n",
       "       [4, 4]])"
      ]
     },
     "execution_count": 18,
     "metadata": {},
     "output_type": "execute_result"
    }
   ],
   "source": [
    "b-a"
   ]
  },
  {
   "cell_type": "code",
   "execution_count": 20,
   "id": "147d23c9",
   "metadata": {},
   "outputs": [
    {
     "data": {
      "text/plain": [
       "array([[ 5, 12],\n",
       "       [21, 32]])"
      ]
     },
     "execution_count": 20,
     "metadata": {},
     "output_type": "execute_result"
    }
   ],
   "source": [
    "b*a"
   ]
  },
  {
   "cell_type": "code",
   "execution_count": 21,
   "id": "cca35da1",
   "metadata": {},
   "outputs": [
    {
     "data": {
      "text/plain": [
       "array([[   5,   36],\n",
       "       [ 343, 4096]], dtype=int32)"
      ]
     },
     "execution_count": 21,
     "metadata": {},
     "output_type": "execute_result"
    }
   ],
   "source": [
    "b**a"
   ]
  },
  {
   "cell_type": "code",
   "execution_count": 22,
   "id": "45724b55",
   "metadata": {},
   "outputs": [
    {
     "data": {
      "text/plain": [
       "array([[0.2       , 0.33333333],\n",
       "       [0.42857143, 0.5       ]])"
      ]
     },
     "execution_count": 22,
     "metadata": {},
     "output_type": "execute_result"
    }
   ],
   "source": [
    "a/b"
   ]
  },
  {
   "cell_type": "code",
   "execution_count": 23,
   "id": "e88f8495",
   "metadata": {},
   "outputs": [
    {
     "data": {
      "text/plain": [
       "array([[0, 0],\n",
       "       [0, 0]], dtype=int32)"
      ]
     },
     "execution_count": 23,
     "metadata": {},
     "output_type": "execute_result"
    }
   ],
   "source": [
    "a//b"
   ]
  },
  {
   "cell_type": "code",
   "execution_count": 24,
   "id": "1be97709",
   "metadata": {},
   "outputs": [
    {
     "data": {
      "text/plain": [
       "array([[5.        , 3.        ],\n",
       "       [2.33333333, 2.        ]])"
      ]
     },
     "execution_count": 24,
     "metadata": {},
     "output_type": "execute_result"
    }
   ],
   "source": [
    "b/a"
   ]
  },
  {
   "cell_type": "code",
   "execution_count": 25,
   "id": "4f3d90b0",
   "metadata": {},
   "outputs": [
    {
     "data": {
      "text/plain": [
       "array([[5, 3],\n",
       "       [2, 2]], dtype=int32)"
      ]
     },
     "execution_count": 25,
     "metadata": {},
     "output_type": "execute_result"
    }
   ],
   "source": [
    "b//a"
   ]
  },
  {
   "cell_type": "code",
   "execution_count": 30,
   "id": "81969a5f",
   "metadata": {},
   "outputs": [
    {
     "data": {
      "text/plain": [
       "array([[19, 22],\n",
       "       [43, 50]])"
      ]
     },
     "execution_count": 30,
     "metadata": {},
     "output_type": "execute_result"
    }
   ],
   "source": [
    "a.dot(b)"
   ]
  },
  {
   "cell_type": "markdown",
   "id": "37734f3b",
   "metadata": {},
   "source": [
    "# SOME MORE IMPORTANT FUNCTION"
   ]
  },
  {
   "cell_type": "markdown",
   "id": "20d013aa",
   "metadata": {},
   "source": [
    "MIN:-      Return the min number\n",
    "    \n",
    "MAX:-      Return the max number\n",
    "    \n",
    "ARGMIN:- Position of min number\n",
    "\n",
    "ARGMAX:- Position of max number\n",
    "    \n",
    "SQRT:-      Square root of every number\n",
    "    \n",
    "SIN:-         Sin value of evey number\n",
    "    \n",
    "COS:-         Cos value of every number\n",
    "\n",
    "TAN:-         tan value of every number\n",
    "\n",
    "SUM:-         sum of the array/Matrix\n",
    "\n",
    "CUMSUM:-  returns the cumulative sum of the elements along the given axis.\n",
    "\n",
    "SHUFFLE:-  This function only shuffles the array along the first axis of a multi-dimensional array.\n",
    "\n",
    "UNIQUE:-    Display unique number of the array. OR  doesnot repeat the value in array.\n",
    "\n",
    "HSTACK:-    Horizontally arrange the matrix.\n",
    "\n",
    "VSTACK:-     Vertically arrange the matrix.\n",
    "\n"
   ]
  },
  {
   "cell_type": "code",
   "execution_count": 31,
   "id": "4420b504",
   "metadata": {},
   "outputs": [
    {
     "data": {
      "text/plain": [
       "1"
      ]
     },
     "execution_count": 31,
     "metadata": {},
     "output_type": "execute_result"
    }
   ],
   "source": [
    "arr = np.array([2,43,54,65,7,4,74,7,5,2,47,1,4])\n",
    "np.min(arr)"
   ]
  },
  {
   "cell_type": "code",
   "execution_count": 32,
   "id": "423590f7",
   "metadata": {},
   "outputs": [
    {
     "data": {
      "text/plain": [
       "74"
      ]
     },
     "execution_count": 32,
     "metadata": {},
     "output_type": "execute_result"
    }
   ],
   "source": [
    "np.max(arr)"
   ]
  },
  {
   "cell_type": "code",
   "execution_count": 33,
   "id": "15a5f0ce",
   "metadata": {},
   "outputs": [
    {
     "data": {
      "text/plain": [
       "11"
      ]
     },
     "execution_count": 33,
     "metadata": {},
     "output_type": "execute_result"
    }
   ],
   "source": [
    "np.argmin(arr)"
   ]
  },
  {
   "cell_type": "code",
   "execution_count": 34,
   "id": "6a65677e",
   "metadata": {},
   "outputs": [
    {
     "data": {
      "text/plain": [
       "6"
      ]
     },
     "execution_count": 34,
     "metadata": {},
     "output_type": "execute_result"
    }
   ],
   "source": [
    "np.argmax(arr)"
   ]
  },
  {
   "cell_type": "code",
   "execution_count": 35,
   "id": "5db2a416",
   "metadata": {},
   "outputs": [
    {
     "data": {
      "text/plain": [
       "array([1.41421356, 6.55743852, 7.34846923, 8.06225775, 2.64575131,\n",
       "       2.        , 8.60232527, 2.64575131, 2.23606798, 1.41421356,\n",
       "       6.8556546 , 1.        , 2.        ])"
      ]
     },
     "execution_count": 35,
     "metadata": {},
     "output_type": "execute_result"
    }
   ],
   "source": [
    "np.sqrt(arr)"
   ]
  },
  {
   "cell_type": "code",
   "execution_count": 39,
   "id": "1fc03045",
   "metadata": {},
   "outputs": [
    {
     "data": {
      "text/plain": [
       "array([ 0.90929743, -0.83177474, -0.55878905,  0.82682868,  0.6569866 ,\n",
       "       -0.7568025 , -0.98514626,  0.6569866 , -0.95892427,  0.90929743,\n",
       "        0.12357312,  0.84147098, -0.7568025 ])"
      ]
     },
     "execution_count": 39,
     "metadata": {},
     "output_type": "execute_result"
    }
   ],
   "source": [
    "np.sin(arr)"
   ]
  },
  {
   "cell_type": "code",
   "execution_count": 37,
   "id": "588fc336",
   "metadata": {},
   "outputs": [
    {
     "data": {
      "text/plain": [
       "array([-0.41614684,  0.5551133 , -0.82930983, -0.56245385,  0.75390225,\n",
       "       -0.65364362,  0.17171734,  0.75390225,  0.28366219, -0.41614684,\n",
       "       -0.99233547,  0.54030231, -0.65364362])"
      ]
     },
     "execution_count": 37,
     "metadata": {},
     "output_type": "execute_result"
    }
   ],
   "source": [
    "np.cos(arr)"
   ]
  },
  {
   "cell_type": "code",
   "execution_count": 38,
   "id": "0216f615",
   "metadata": {},
   "outputs": [
    {
     "data": {
      "text/plain": [
       "array([-2.18503986, -1.49838734,  0.6738001 , -1.47003826,  0.87144798,\n",
       "        1.15782128, -5.73702254,  0.87144798, -3.38051501, -2.18503986,\n",
       "       -0.12452757,  1.55740772,  1.15782128])"
      ]
     },
     "execution_count": 38,
     "metadata": {},
     "output_type": "execute_result"
    }
   ],
   "source": [
    "np.tan(arr)"
   ]
  },
  {
   "cell_type": "markdown",
   "id": "c82d68a5",
   "metadata": {},
   "source": [
    "# CREATING 2D ARRAY WITH FIXED DATATYPE"
   ]
  },
  {
   "cell_type": "code",
   "execution_count": 67,
   "id": "111d56a2",
   "metadata": {},
   "outputs": [
    {
     "data": {
      "text/plain": [
       "array([[155, 139, 183],\n",
       "       [ 77,  63,  17],\n",
       "       [109,  16, 188]])"
      ]
     },
     "execution_count": 67,
     "metadata": {},
     "output_type": "execute_result"
    }
   ],
   "source": [
    "np.random.seed(122)\n",
    "matrix = np.random.randint(1,211,9).reshape(3,3)\n",
    "matrix"
   ]
  },
  {
   "cell_type": "code",
   "execution_count": 68,
   "id": "49a02de5",
   "metadata": {},
   "outputs": [
    {
     "data": {
      "text/plain": [
       "947"
      ]
     },
     "execution_count": 68,
     "metadata": {},
     "output_type": "execute_result"
    }
   ],
   "source": [
    "np.sum(matrix)"
   ]
  },
  {
   "cell_type": "code",
   "execution_count": 69,
   "id": "a18700d5",
   "metadata": {},
   "outputs": [
    {
     "data": {
      "text/plain": [
       "947"
      ]
     },
     "execution_count": 69,
     "metadata": {},
     "output_type": "execute_result"
    }
   ],
   "source": [
    "matrix.sum()"
   ]
  },
  {
   "cell_type": "code",
   "execution_count": 70,
   "id": "f4080465",
   "metadata": {},
   "outputs": [
    {
     "data": {
      "text/plain": [
       "16"
      ]
     },
     "execution_count": 70,
     "metadata": {},
     "output_type": "execute_result"
    }
   ],
   "source": [
    "np.min(matrix)"
   ]
  },
  {
   "cell_type": "code",
   "execution_count": 71,
   "id": "6d841d02",
   "metadata": {},
   "outputs": [
    {
     "data": {
      "text/plain": [
       "188"
      ]
     },
     "execution_count": 71,
     "metadata": {},
     "output_type": "execute_result"
    }
   ],
   "source": [
    "np.max(matrix)"
   ]
  },
  {
   "cell_type": "code",
   "execution_count": 54,
   "id": "84812b20",
   "metadata": {},
   "outputs": [
    {
     "data": {
      "text/plain": [
       "8"
      ]
     },
     "execution_count": 54,
     "metadata": {},
     "output_type": "execute_result"
    }
   ],
   "source": [
    "np.argmax(matrix)"
   ]
  },
  {
   "cell_type": "code",
   "execution_count": 64,
   "id": "5ef15121",
   "metadata": {},
   "outputs": [
    {
     "data": {
      "text/plain": [
       "7"
      ]
     },
     "execution_count": 64,
     "metadata": {},
     "output_type": "execute_result"
    }
   ],
   "source": [
    "np.argmin(matrix)"
   ]
  },
  {
   "cell_type": "code",
   "execution_count": 72,
   "id": "3f5aecfc",
   "metadata": {},
   "outputs": [
    {
     "data": {
      "text/plain": [
       "array([[155, 139, 183],\n",
       "       [ 77,  63,  17],\n",
       "       [109,  16, 188]])"
      ]
     },
     "execution_count": 72,
     "metadata": {},
     "output_type": "execute_result"
    }
   ],
   "source": [
    "matrix"
   ]
  },
  {
   "cell_type": "code",
   "execution_count": 73,
   "id": "327f1d14",
   "metadata": {},
   "outputs": [
    {
     "data": {
      "text/plain": [
       "array([77, 16, 17])"
      ]
     },
     "execution_count": 73,
     "metadata": {},
     "output_type": "execute_result"
    }
   ],
   "source": [
    "np.min(matrix, axis=0)"
   ]
  },
  {
   "cell_type": "code",
   "execution_count": 74,
   "id": "6942b7c6",
   "metadata": {},
   "outputs": [
    {
     "data": {
      "text/plain": [
       "array([341, 218, 388])"
      ]
     },
     "execution_count": 74,
     "metadata": {},
     "output_type": "execute_result"
    }
   ],
   "source": [
    "np.sum(matrix, axis=0)"
   ]
  },
  {
   "cell_type": "code",
   "execution_count": 76,
   "id": "e9282f89",
   "metadata": {},
   "outputs": [
    {
     "data": {
      "text/plain": [
       "array([477, 157, 313])"
      ]
     },
     "execution_count": 76,
     "metadata": {},
     "output_type": "execute_result"
    }
   ],
   "source": [
    "np.sum(matrix, axis=1)"
   ]
  },
  {
   "cell_type": "code",
   "execution_count": 78,
   "id": "fecba26e",
   "metadata": {},
   "outputs": [
    {
     "data": {
      "text/plain": [
       "array([155, 294, 477, 554, 617, 634, 743, 759, 947], dtype=int32)"
      ]
     },
     "execution_count": 78,
     "metadata": {},
     "output_type": "execute_result"
    }
   ],
   "source": [
    "np.cumsum(matrix)"
   ]
  },
  {
   "cell_type": "code",
   "execution_count": 83,
   "id": "8da26717",
   "metadata": {},
   "outputs": [
    {
     "data": {
      "text/plain": [
       "array([[109,  16, 188],\n",
       "       [ 77,  63,  17],\n",
       "       [155, 139, 183]])"
      ]
     },
     "execution_count": 83,
     "metadata": {},
     "output_type": "execute_result"
    }
   ],
   "source": [
    "np.random.shuffle(matrix)\n",
    "matrix"
   ]
  },
  {
   "cell_type": "code",
   "execution_count": 85,
   "id": "afe73e04",
   "metadata": {},
   "outputs": [
    {
     "data": {
      "text/plain": [
       "array([ 16,  17,  63,  77, 109, 139, 155, 183, 188])"
      ]
     },
     "execution_count": 85,
     "metadata": {},
     "output_type": "execute_result"
    }
   ],
   "source": [
    "np.unique(matrix)"
   ]
  },
  {
   "cell_type": "code",
   "execution_count": 87,
   "id": "5c654f51",
   "metadata": {},
   "outputs": [
    {
     "data": {
      "text/plain": [
       "9"
      ]
     },
     "execution_count": 87,
     "metadata": {},
     "output_type": "execute_result"
    }
   ],
   "source": [
    "np.unique(matrix).size"
   ]
  },
  {
   "cell_type": "code",
   "execution_count": 89,
   "id": "0c91f460",
   "metadata": {},
   "outputs": [
    {
     "data": {
      "text/plain": [
       "array([6, 9, 6, 1, 1, 2, 8, 7, 3, 5])"
      ]
     },
     "execution_count": 89,
     "metadata": {},
     "output_type": "execute_result"
    }
   ],
   "source": [
    "np.random.seed(1)\n",
    "arr = np.random.randint(1,10,10)\n",
    "arr"
   ]
  },
  {
   "cell_type": "code",
   "execution_count": 96,
   "id": "efc107f5",
   "metadata": {},
   "outputs": [
    {
     "data": {
      "text/plain": [
       "array([1, 2, 3, 5, 6, 7, 8, 9])"
      ]
     },
     "execution_count": 96,
     "metadata": {},
     "output_type": "execute_result"
    }
   ],
   "source": [
    "np.unique(arr)"
   ]
  },
  {
   "cell_type": "code",
   "execution_count": 97,
   "id": "6511cc90",
   "metadata": {},
   "outputs": [
    {
     "data": {
      "text/plain": [
       "array([ 2,  4,  6, 10, 12, 14, 16, 18])"
      ]
     },
     "execution_count": 97,
     "metadata": {},
     "output_type": "execute_result"
    }
   ],
   "source": [
    "np.unique(arr*2)"
   ]
  },
  {
   "cell_type": "code",
   "execution_count": 98,
   "id": "6705b96f",
   "metadata": {},
   "outputs": [
    {
     "data": {
      "text/plain": [
       "8"
      ]
     },
     "execution_count": 98,
     "metadata": {},
     "output_type": "execute_result"
    }
   ],
   "source": [
    "np.unique(arr).size"
   ]
  },
  {
   "cell_type": "code",
   "execution_count": 104,
   "id": "88bbab0e",
   "metadata": {},
   "outputs": [
    {
     "data": {
      "text/plain": [
       "array([2, 6, 5, 3, 9, 1, 8, 1, 7, 6])"
      ]
     },
     "execution_count": 104,
     "metadata": {},
     "output_type": "execute_result"
    }
   ],
   "source": [
    "np.random.shuffle(arr)\n",
    "arr"
   ]
  },
  {
   "cell_type": "code",
   "execution_count": 106,
   "id": "10bf1300",
   "metadata": {},
   "outputs": [
    {
     "data": {
      "text/plain": [
       "(array([1, 2, 3, 5, 6, 7, 8, 9]),\n",
       " array([5, 0, 3, 2, 1, 8, 6, 4], dtype=int64),\n",
       " array([2, 1, 1, 1, 2, 1, 1, 1], dtype=int64))"
      ]
     },
     "execution_count": 106,
     "metadata": {},
     "output_type": "execute_result"
    }
   ],
   "source": [
    "np.unique(arr, return_index=True, return_counts=True)"
   ]
  },
  {
   "cell_type": "markdown",
   "id": "7961c06d",
   "metadata": {},
   "source": [
    "# STACKING"
   ]
  },
  {
   "cell_type": "code",
   "execution_count": 109,
   "id": "62c9d370",
   "metadata": {},
   "outputs": [],
   "source": [
    "arr1 = np.array([1,3,4,5])\n",
    "arr2 = np.array([2,6,7,8])"
   ]
  },
  {
   "cell_type": "code",
   "execution_count": 110,
   "id": "79195227",
   "metadata": {},
   "outputs": [
    {
     "data": {
      "text/plain": [
       "array([1, 3, 4, 5])"
      ]
     },
     "execution_count": 110,
     "metadata": {},
     "output_type": "execute_result"
    }
   ],
   "source": [
    "arr1"
   ]
  },
  {
   "cell_type": "code",
   "execution_count": 111,
   "id": "73c67354",
   "metadata": {},
   "outputs": [
    {
     "data": {
      "text/plain": [
       "array([2, 6, 7, 8])"
      ]
     },
     "execution_count": 111,
     "metadata": {},
     "output_type": "execute_result"
    }
   ],
   "source": [
    "arr2"
   ]
  },
  {
   "cell_type": "code",
   "execution_count": 113,
   "id": "f51c4e13",
   "metadata": {},
   "outputs": [
    {
     "data": {
      "text/plain": [
       "array([1, 3, 4, 5, 2, 6, 7, 8])"
      ]
     },
     "execution_count": 113,
     "metadata": {},
     "output_type": "execute_result"
    }
   ],
   "source": [
    "np.hstack((arr1,arr2))"
   ]
  },
  {
   "cell_type": "code",
   "execution_count": 114,
   "id": "08f89f46",
   "metadata": {},
   "outputs": [
    {
     "data": {
      "text/plain": [
       "array([[1, 3, 4, 5],\n",
       "       [2, 6, 7, 8]])"
      ]
     },
     "execution_count": 114,
     "metadata": {},
     "output_type": "execute_result"
    }
   ],
   "source": [
    "np.vstack((arr1,arr2))"
   ]
  },
  {
   "cell_type": "markdown",
   "id": "f64d6125",
   "metadata": {},
   "source": [
    "# PRACTICE QUESTION"
   ]
  },
  {
   "cell_type": "markdown",
   "id": "2073f2e4",
   "metadata": {},
   "source": [
    "Q) Write the statement to import the numpy"
   ]
  },
  {
   "cell_type": "code",
   "execution_count": 5,
   "id": "261bcdf7",
   "metadata": {},
   "outputs": [],
   "source": [
    "import numpy as np"
   ]
  },
  {
   "cell_type": "markdown",
   "id": "56cd1336",
   "metadata": {},
   "source": [
    "Q) Create an array using numpy?"
   ]
  },
  {
   "cell_type": "code",
   "execution_count": 7,
   "id": "9c63af9c",
   "metadata": {},
   "outputs": [
    {
     "data": {
      "text/plain": [
       "array([ 1,  3,  4,  5, 67,  6])"
      ]
     },
     "execution_count": 7,
     "metadata": {},
     "output_type": "execute_result"
    }
   ],
   "source": [
    "arr = np.array([1,3,4,5,67,6])\n",
    "arr"
   ]
  },
  {
   "cell_type": "markdown",
   "id": "a52e4e20",
   "metadata": {},
   "source": [
    "Q) Create an array of 10 random integers?"
   ]
  },
  {
   "cell_type": "code",
   "execution_count": 9,
   "id": "d87bac43",
   "metadata": {},
   "outputs": [
    {
     "data": {
      "text/plain": [
       "array([ 4, 13,  3, 18, 16, 17, 15,  4,  6, 10])"
      ]
     },
     "execution_count": 9,
     "metadata": {},
     "output_type": "execute_result"
    }
   ],
   "source": [
    "arr = np.random.randint(1,20,10)\n",
    "arr"
   ]
  },
  {
   "cell_type": "markdown",
   "id": "260cb69f",
   "metadata": {},
   "source": [
    "Q) Create an array of element from 10-20?"
   ]
  },
  {
   "cell_type": "code",
   "execution_count": 19,
   "id": "139f9f82",
   "metadata": {},
   "outputs": [
    {
     "data": {
      "text/plain": [
       "array([10, 11, 12, 13, 14, 15, 16, 17, 18, 19, 20])"
      ]
     },
     "execution_count": 19,
     "metadata": {},
     "output_type": "execute_result"
    }
   ],
   "source": [
    "arr = np.arange(10,21)\n",
    "arr"
   ]
  },
  {
   "cell_type": "markdown",
   "id": "620588ed",
   "metadata": {},
   "source": [
    "Q) Create an one dimensional array and converted into 3*3 dimensional array?"
   ]
  },
  {
   "cell_type": "code",
   "execution_count": 14,
   "id": "b87ab0cd",
   "metadata": {},
   "outputs": [
    {
     "name": "stdout",
     "output_type": "stream",
     "text": [
      "[43 25  4  9  1 22 20 11 44]\n"
     ]
    },
    {
     "data": {
      "text/plain": [
       "array([[43, 25,  4],\n",
       "       [ 9,  1, 22],\n",
       "       [20, 11, 44]])"
      ]
     },
     "execution_count": 14,
     "metadata": {},
     "output_type": "execute_result"
    }
   ],
   "source": [
    "np.random.seed(3)\n",
    "arr = np.random.randint(1,55,9)\n",
    "print(arr)\n",
    "arr.reshape(3,3)"
   ]
  },
  {
   "cell_type": "markdown",
   "id": "a7f94fc5",
   "metadata": {},
   "source": [
    "Q) Create an array and then convert all even number with 0?"
   ]
  },
  {
   "cell_type": "code",
   "execution_count": 21,
   "id": "488812c1",
   "metadata": {},
   "outputs": [
    {
     "name": "stdout",
     "output_type": "stream",
     "text": [
      "[875 665 250 644 953 969 257 790 660 715 876 682 651 918 120 423 481 661\n",
      " 941 606]\n"
     ]
    }
   ],
   "source": [
    "np.random.seed(3)\n",
    "arr1 = np.random.randint(1,1000,20)\n",
    "print(arr1)\n"
   ]
  },
  {
   "cell_type": "markdown",
   "id": "32a71573",
   "metadata": {},
   "source": [
    "Q)Create an array of all the even integers from 30 to 70"
   ]
  },
  {
   "cell_type": "code",
   "execution_count": 18,
   "id": "9323eda0",
   "metadata": {},
   "outputs": [
    {
     "name": "stdout",
     "output_type": "stream",
     "text": [
      "Array of all the even integers from 30 to 70\n",
      "[30 32 34 36 38 40 42 44 46 48 50 52 54 56 58 60 62 64 66 68 70]\n"
     ]
    }
   ],
   "source": [
    "arr = np.arange(30,71,2)\n",
    "print(\"Array of all the even integers from 30 to 70\")\n",
    "print(arr)"
   ]
  },
  {
   "cell_type": "markdown",
   "id": "23c413b6",
   "metadata": {},
   "source": [
    "Q) Create an array of size 3*3 but all the element should between 0 or 1."
   ]
  },
  {
   "cell_type": "code",
   "execution_count": 29,
   "id": "5c5f464c",
   "metadata": {},
   "outputs": [
    {
     "name": "stdout",
     "output_type": "stream",
     "text": [
      "[0.70768662 0.74674622 0.69109292 0.68918041 0.37360012 0.6681348\n",
      " 0.33984866 0.57279387 0.32580716]\n"
     ]
    },
    {
     "data": {
      "text/plain": [
       "array([[0.70768662, 0.74674622, 0.69109292],\n",
       "       [0.68918041, 0.37360012, 0.6681348 ],\n",
       "       [0.33984866, 0.57279387, 0.32580716]])"
      ]
     },
     "execution_count": 29,
     "metadata": {},
     "output_type": "execute_result"
    }
   ],
   "source": [
    "ae = np.random.rand(9)\n",
    "print(ae)\n",
    "ae.reshape(3,3)"
   ]
  },
  {
   "cell_type": "code",
   "execution_count": 34,
   "id": "e910ef1d",
   "metadata": {},
   "outputs": [
    {
     "name": "stdout",
     "output_type": "stream",
     "text": [
      "[[ 1  2  3  4]\n",
      " [ 5  6  7  8]\n",
      " [ 9 10 11 12]\n",
      " [13 14 15 16]]\n"
     ]
    }
   ],
   "source": [
    "ammad= np.array([(1,2,3,4),(5,6,7,8),(9,10,11,12),(13,14,15,16)])\n",
    "print(ammad)"
   ]
  },
  {
   "cell_type": "code",
   "execution_count": 41,
   "id": "e59fea81",
   "metadata": {},
   "outputs": [
    {
     "data": {
      "text/plain": [
       "array([], shape=(0, 4), dtype=int32)"
      ]
     },
     "execution_count": 41,
     "metadata": {},
     "output_type": "execute_result"
    }
   ],
   "source": []
  }
 ],
 "metadata": {
  "kernelspec": {
   "display_name": "Python 3",
   "language": "python",
   "name": "python3"
  },
  "language_info": {
   "codemirror_mode": {
    "name": "ipython",
    "version": 3
   },
   "file_extension": ".py",
   "mimetype": "text/x-python",
   "name": "python",
   "nbconvert_exporter": "python",
   "pygments_lexer": "ipython3",
   "version": "3.8.8"
  }
 },
 "nbformat": 4,
 "nbformat_minor": 5
}
