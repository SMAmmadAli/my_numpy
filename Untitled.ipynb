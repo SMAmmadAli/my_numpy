{
 "cells": [
  {
   "cell_type": "markdown",
   "id": "e72e195c",
   "metadata": {},
   "source": [
    "# How to install any library in python?"
   ]
  },
  {
   "cell_type": "code",
   "execution_count": 2,
   "id": "98a92045",
   "metadata": {},
   "outputs": [
    {
     "name": "stdout",
     "output_type": "stream",
     "text": [
      "Requirement already satisfied: numpy in c:\\users\\dell\\anaconda3\\lib\\site-packages (1.20.1)\n"
     ]
    }
   ],
   "source": [
    "!pip install numpy"
   ]
  },
  {
   "cell_type": "markdown",
   "id": "10d976ab",
   "metadata": {},
   "source": [
    "# How to import any library in python"
   ]
  },
  {
   "cell_type": "code",
   "execution_count": null,
   "id": "2c90ad25",
   "metadata": {},
   "outputs": [],
   "source": []
  }
 ],
 "metadata": {
  "kernelspec": {
   "display_name": "Python 3",
   "language": "python",
   "name": "python3"
  },
  "language_info": {
   "codemirror_mode": {
    "name": "ipython",
    "version": 3
   },
   "file_extension": ".py",
   "mimetype": "text/x-python",
   "name": "python",
   "nbconvert_exporter": "python",
   "pygments_lexer": "ipython3",
   "version": "3.8.8"
  }
 },
 "nbformat": 4,
 "nbformat_minor": 5
}
